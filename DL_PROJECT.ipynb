{
  "nbformat": 4,
  "nbformat_minor": 0,
  "metadata": {
    "colab": {
      "provenance": []
    },
    "kernelspec": {
      "name": "python3",
      "display_name": "Python 3"
    },
    "language_info": {
      "name": "python"
    }
  },
  "cells": [
    {
      "cell_type": "code",
      "source": [
        "import requests\n",
        "from bs4 import BeautifulSoup\n",
        "import time\n",
        "import matplotlib.pyplot as plt\n",
        "def get_sentiment(current_price, previous_price):\n",
        "    if current_price > previous_price:\n",
        "        return \"Positive\"\n",
        "    elif current_price < previous_price:\n",
        "        return \"Negative\"\n",
        "    else:\n",
        "        return \"Neutral\"\n",
        "\n",
        "def scrape_price(url):\n",
        "    try:\n",
        "        response = requests.get(url)\n",
        "        response.raise_for_status()\n",
        "        soup = BeautifulSoup(response.text, 'html.parser')\n",
        "        price_text = soup.find('div', {'class': 'YMlKec fxKbKc'}).text\n",
        "        price = float(price_text.strip()[1:].replace(\",\", \"\"))\n",
        "        return price\n",
        "\n",
        "    except Exception as e:\n",
        "        print(f\"Error scrapping price: {e}\")\n",
        "        return None\n",
        "\n",
        "ticker = 'RELIANCE'\n",
        "url = 'https://www.google.com/finance/quote/RELIANCE:NSE'\n",
        "n = 25\n",
        "sleep_time = 0.5\n",
        "show_sentiment = True\n",
        "\n",
        "plt.ion()\n",
        "fig, ax = plt.subplots()\n",
        "x, y = [], []\n",
        "line, = ax.plot(x, y, color='b', label='Price Line')  # Line plot\n",
        "\n",
        "ax.set_xlim(0, n)\n",
        "previous_price = None\n",
        "\n",
        "for i in range(n):\n",
        "    price = scrape_price(url)\n",
        "\n",
        "    if price is None:\n",
        "        continue\n",
        "\n",
        "    if previous_price is not None:\n",
        "        sentiment = get_sentiment(price, previous_price)\n",
        "        if show_sentiment:\n",
        "            print(f\"Iteration {i+1}: Price = {price}, Sentiment = {sentiment}\")\n",
        "    else:\n",
        "        print(f\"Iteration {i+1}: Price = {price}, Sentiment = N/A (First Data Point)\")\n",
        "    previous_price = price\n",
        "\n",
        "    x.append(i)\n",
        "    y.append(price)\n",
        "\n",
        "    line.set_xdata(x)\n",
        "    line.set_ydata(y)\n",
        "\n",
        "    #ax.scatter(x, y, color='r')\n",
        "    ax.set_ylim(min(y) - 50, max(y) + 50)\n",
        "\n",
        "    fig.canvas.draw()\n",
        "    fig.canvas.flush_events()\n",
        "\n",
        "    time.sleep(sleep_time)\n",
        "\n",
        "plt.xlabel('Iteration')\n",
        "plt.ylabel('Price (INR)')\n",
        "plt.title(f'{ticker} Stock Price Monitoring')\n",
        "plt.grid(True)\n",
        "plt.ioff()\n",
        "plt.show()\n"
      ],
      "metadata": {
        "colab": {
          "base_uri": "https://localhost:8080/",
          "height": 906
        },
        "id": "M8clEtEDwPY7",
        "outputId": "656c1ed7-f9b4-4cdc-90fb-849c6525b32f"
      },
      "execution_count": null,
      "outputs": [
        {
          "output_type": "stream",
          "name": "stdout",
          "text": [
            "Iteration 1: Price = 3033.5, Sentiment = N/A (First Data Point)\n",
            "Iteration 2: Price = 3033.5, Sentiment = Neutral\n",
            "Iteration 3: Price = 3033.5, Sentiment = Neutral\n",
            "Iteration 4: Price = 3033.5, Sentiment = Neutral\n",
            "Iteration 5: Price = 3033.5, Sentiment = Neutral\n",
            "Iteration 6: Price = 3033.5, Sentiment = Neutral\n",
            "Iteration 7: Price = 3034.05, Sentiment = Positive\n",
            "Iteration 8: Price = 3034.05, Sentiment = Neutral\n",
            "Iteration 9: Price = 3034.05, Sentiment = Neutral\n",
            "Iteration 10: Price = 3034.05, Sentiment = Neutral\n",
            "Iteration 11: Price = 3034.05, Sentiment = Neutral\n",
            "Iteration 12: Price = 3034.05, Sentiment = Neutral\n",
            "Iteration 13: Price = 3034.05, Sentiment = Neutral\n",
            "Iteration 14: Price = 3034.05, Sentiment = Neutral\n",
            "Iteration 15: Price = 3034.05, Sentiment = Neutral\n",
            "Iteration 16: Price = 3034.2, Sentiment = Positive\n",
            "Iteration 17: Price = 3034.2, Sentiment = Neutral\n",
            "Iteration 18: Price = 3034.2, Sentiment = Neutral\n",
            "Iteration 19: Price = 3034.2, Sentiment = Neutral\n",
            "Iteration 20: Price = 3034.2, Sentiment = Neutral\n",
            "Iteration 21: Price = 3034.2, Sentiment = Neutral\n",
            "Iteration 22: Price = 3034.2, Sentiment = Neutral\n",
            "Iteration 23: Price = 3034.2, Sentiment = Neutral\n",
            "Iteration 24: Price = 3034.2, Sentiment = Neutral\n",
            "Iteration 25: Price = 3034.2, Sentiment = Neutral\n"
          ]
        },
        {
          "output_type": "display_data",
          "data": {
            "text/plain": [
              "<Figure size 640x480 with 1 Axes>"
            ],
            "image/png": "[encoded data removed]"
          },
          "metadata": {}
        }
      ]
    }
  ]
}